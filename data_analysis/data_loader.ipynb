{
 "cells": [
  {
   "cell_type": "code",
   "execution_count": 1,
   "id": "8a0a92a8",
   "metadata": {},
   "outputs": [
    {
     "name": "stdout",
     "output_type": "stream",
     "text": [
      "Requirement already satisfied: CTAB_XTRA_DP in c:\\users\\marti\\appdata\\local\\programs\\python\\python312\\lib\\site-packages (3.5.0)\n",
      "Requirement already satisfied: pandas in c:\\users\\marti\\appdata\\local\\programs\\python\\python312\\lib\\site-packages (from CTAB_XTRA_DP) (2.2.3)\n",
      "Requirement already satisfied: numpy in c:\\users\\marti\\appdata\\local\\programs\\python\\python312\\lib\\site-packages (from CTAB_XTRA_DP) (2.1.3)\n",
      "Requirement already satisfied: matplotlib in c:\\users\\marti\\appdata\\local\\programs\\python\\python312\\lib\\site-packages (from CTAB_XTRA_DP) (3.10.0)\n",
      "Requirement already satisfied: seaborn in c:\\users\\marti\\appdata\\local\\programs\\python\\python312\\lib\\site-packages (from CTAB_XTRA_DP) (0.13.2)\n",
      "Requirement already satisfied: scikit-learn in c:\\users\\marti\\appdata\\local\\programs\\python\\python312\\lib\\site-packages (from CTAB_XTRA_DP) (1.6.1)\n",
      "Requirement already satisfied: torch in c:\\users\\marti\\appdata\\local\\programs\\python\\python312\\lib\\site-packages (from CTAB_XTRA_DP) (2.5.1)\n",
      "Requirement already satisfied: tqdm in c:\\users\\marti\\appdata\\local\\programs\\python\\python312\\lib\\site-packages (from CTAB_XTRA_DP) (4.67.1)\n",
      "Requirement already satisfied: dython in c:\\users\\marti\\appdata\\local\\programs\\python\\python312\\lib\\site-packages (from CTAB_XTRA_DP) (0.7.9)\n",
      "Requirement already satisfied: pathlib in c:\\users\\marti\\appdata\\local\\programs\\python\\python312\\lib\\site-packages (from CTAB_XTRA_DP) (1.0.1)\n",
      "Requirement already satisfied: xgboost in c:\\users\\marti\\appdata\\local\\programs\\python\\python312\\lib\\site-packages (from CTAB_XTRA_DP) (3.0.0)\n",
      "Requirement already satisfied: catboost in c:\\users\\marti\\appdata\\local\\programs\\python\\python312\\lib\\site-packages (from CTAB_XTRA_DP) (1.2.8)\n",
      "Requirement already satisfied: lightgbm in c:\\users\\marti\\appdata\\local\\programs\\python\\python312\\lib\\site-packages (from CTAB_XTRA_DP) (4.6.0)\n",
      "Requirement already satisfied: graphviz in c:\\users\\marti\\appdata\\local\\programs\\python\\python312\\lib\\site-packages (from catboost->CTAB_XTRA_DP) (0.20.3)\n",
      "Requirement already satisfied: scipy in c:\\users\\marti\\appdata\\local\\programs\\python\\python312\\lib\\site-packages (from catboost->CTAB_XTRA_DP) (1.15.1)\n",
      "Requirement already satisfied: plotly in c:\\users\\marti\\appdata\\local\\programs\\python\\python312\\lib\\site-packages (from catboost->CTAB_XTRA_DP) (6.0.1)\n",
      "Requirement already satisfied: six in c:\\users\\marti\\appdata\\roaming\\python\\python312\\site-packages (from catboost->CTAB_XTRA_DP) (1.17.0)\n",
      "Requirement already satisfied: python-dateutil>=2.8.2 in c:\\users\\marti\\appdata\\roaming\\python\\python312\\site-packages (from pandas->CTAB_XTRA_DP) (2.9.0.post0)\n",
      "Requirement already satisfied: pytz>=2020.1 in c:\\users\\marti\\appdata\\local\\programs\\python\\python312\\lib\\site-packages (from pandas->CTAB_XTRA_DP) (2024.2)\n",
      "Requirement already satisfied: tzdata>=2022.7 in c:\\users\\marti\\appdata\\local\\programs\\python\\python312\\lib\\site-packages (from pandas->CTAB_XTRA_DP) (2025.1)\n",
      "Requirement already satisfied: psutil>=5.9.1 in c:\\users\\marti\\appdata\\roaming\\python\\python312\\site-packages (from dython->CTAB_XTRA_DP) (6.1.1)\n",
      "Requirement already satisfied: setuptools in c:\\users\\marti\\appdata\\local\\programs\\python\\python312\\lib\\site-packages (from dython->CTAB_XTRA_DP) (75.8.0)\n",
      "Requirement already satisfied: contourpy>=1.0.1 in c:\\users\\marti\\appdata\\local\\programs\\python\\python312\\lib\\site-packages (from matplotlib->CTAB_XTRA_DP) (1.3.1)\n",
      "Requirement already satisfied: cycler>=0.10 in c:\\users\\marti\\appdata\\local\\programs\\python\\python312\\lib\\site-packages (from matplotlib->CTAB_XTRA_DP) (0.12.1)\n",
      "Requirement already satisfied: fonttools>=4.22.0 in c:\\users\\marti\\appdata\\local\\programs\\python\\python312\\lib\\site-packages (from matplotlib->CTAB_XTRA_DP) (4.55.4)\n",
      "Requirement already satisfied: kiwisolver>=1.3.1 in c:\\users\\marti\\appdata\\local\\programs\\python\\python312\\lib\\site-packages (from matplotlib->CTAB_XTRA_DP) (1.4.8)\n",
      "Requirement already satisfied: packaging>=20.0 in c:\\users\\marti\\appdata\\roaming\\python\\python312\\site-packages (from matplotlib->CTAB_XTRA_DP) (24.2)\n",
      "Requirement already satisfied: pillow>=8 in c:\\users\\marti\\appdata\\local\\programs\\python\\python312\\lib\\site-packages (from matplotlib->CTAB_XTRA_DP) (11.1.0)\n",
      "Requirement already satisfied: pyparsing>=2.3.1 in c:\\users\\marti\\appdata\\local\\programs\\python\\python312\\lib\\site-packages (from matplotlib->CTAB_XTRA_DP) (3.2.1)\n",
      "Requirement already satisfied: joblib>=1.2.0 in c:\\users\\marti\\appdata\\local\\programs\\python\\python312\\lib\\site-packages (from scikit-learn->CTAB_XTRA_DP) (1.4.2)\n",
      "Requirement already satisfied: threadpoolctl>=3.1.0 in c:\\users\\marti\\appdata\\local\\programs\\python\\python312\\lib\\site-packages (from scikit-learn->CTAB_XTRA_DP) (3.5.0)\n",
      "Requirement already satisfied: narwhals>=1.15.1 in c:\\users\\marti\\appdata\\local\\programs\\python\\python312\\lib\\site-packages (from plotly->catboost->CTAB_XTRA_DP) (1.36.0)\n",
      "Requirement already satisfied: filelock in c:\\users\\marti\\appdata\\local\\programs\\python\\python312\\lib\\site-packages (from torch->CTAB_XTRA_DP) (3.17.0)\n",
      "Requirement already satisfied: typing-extensions>=4.8.0 in c:\\users\\marti\\appdata\\local\\programs\\python\\python312\\lib\\site-packages (from torch->CTAB_XTRA_DP) (4.12.2)\n",
      "Requirement already satisfied: networkx in c:\\users\\marti\\appdata\\local\\programs\\python\\python312\\lib\\site-packages (from torch->CTAB_XTRA_DP) (3.4.2)\n",
      "Requirement already satisfied: jinja2 in c:\\users\\marti\\appdata\\local\\programs\\python\\python312\\lib\\site-packages (from torch->CTAB_XTRA_DP) (3.1.5)\n",
      "Requirement already satisfied: fsspec in c:\\users\\marti\\appdata\\local\\programs\\python\\python312\\lib\\site-packages (from torch->CTAB_XTRA_DP) (2024.12.0)\n",
      "Requirement already satisfied: sympy==1.13.1 in c:\\users\\marti\\appdata\\local\\programs\\python\\python312\\lib\\site-packages (from torch->CTAB_XTRA_DP) (1.13.1)\n",
      "Requirement already satisfied: mpmath<1.4,>=1.1.0 in c:\\users\\marti\\appdata\\local\\programs\\python\\python312\\lib\\site-packages (from sympy==1.13.1->torch->CTAB_XTRA_DP) (1.3.0)\n",
      "Requirement already satisfied: MarkupSafe>=2.0 in c:\\users\\marti\\appdata\\local\\programs\\python\\python312\\lib\\site-packages (from jinja2->torch->CTAB_XTRA_DP) (3.0.2)\n",
      "Requirement already satisfied: colorama in c:\\users\\marti\\appdata\\roaming\\python\\python312\\site-packages (from tqdm->CTAB_XTRA_DP) (0.4.6)\n"
     ]
    },
    {
     "name": "stderr",
     "output_type": "stream",
     "text": [
      "WARNING: Ignoring invalid distribution ~ (C:\\Users\\marti\\AppData\\Local\\Programs\\Python\\Python312\\Lib\\site-packages)\n",
      "WARNING: Ignoring invalid distribution ~tab-xtra-dp (C:\\Users\\marti\\AppData\\Local\\Programs\\Python\\Python312\\Lib\\site-packages)\n",
      "WARNING: Ignoring invalid distribution ~ (C:\\Users\\marti\\AppData\\Local\\Programs\\Python\\Python312\\Lib\\site-packages)\n",
      "WARNING: Ignoring invalid distribution ~tab-xtra-dp (C:\\Users\\marti\\AppData\\Local\\Programs\\Python\\Python312\\Lib\\site-packages)\n",
      "WARNING: Ignoring invalid distribution ~ (C:\\Users\\marti\\AppData\\Local\\Programs\\Python\\Python312\\Lib\\site-packages)\n",
      "WARNING: Ignoring invalid distribution ~tab-xtra-dp (C:\\Users\\marti\\AppData\\Local\\Programs\\Python\\Python312\\Lib\\site-packages)\n"
     ]
    }
   ],
   "source": [
    "!pip install CTAB_XTRA_DP"
   ]
  },
  {
   "cell_type": "code",
   "execution_count": null,
   "id": "162f0e89",
   "metadata": {},
   "outputs": [],
   "source": [
    "import pandas as pd\n",
    "import numpy as np\n",
    "import matplotlib.pyplot as plt\n",
    "from CTAB_XTRA_DP import evaluation"
   ]
  }
 ],
 "metadata": {
  "kernelspec": {
   "display_name": "Python 3",
   "language": "python",
   "name": "python3"
  },
  "language_info": {
   "codemirror_mode": {
    "name": "ipython",
    "version": 3
   },
   "file_extension": ".py",
   "mimetype": "text/x-python",
   "name": "python",
   "nbconvert_exporter": "python",
   "pygments_lexer": "ipython3",
   "version": "3.12.8"
  }
 },
 "nbformat": 4,
 "nbformat_minor": 5
}
