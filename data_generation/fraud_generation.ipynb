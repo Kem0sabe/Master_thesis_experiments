{
 "cells": [
  {
   "cell_type": "code",
   "execution_count": 14,
   "id": "e163c7c1",
   "metadata": {},
   "outputs": [
    {
     "name": "stdout",
     "output_type": "stream",
     "text": [
      "Requirement already satisfied: ctab-xtra-dp==3.5.0 in c:\\users\\marti\\appdata\\local\\programs\\python\\python312\\lib\\site-packages (3.5.0)\n",
      "Requirement already satisfied: pandas in c:\\users\\marti\\appdata\\local\\programs\\python\\python312\\lib\\site-packages (from ctab-xtra-dp==3.5.0) (2.2.3)\n",
      "Requirement already satisfied: numpy in c:\\users\\marti\\appdata\\local\\programs\\python\\python312\\lib\\site-packages (from ctab-xtra-dp==3.5.0) (2.1.3)\n",
      "Requirement already satisfied: matplotlib in c:\\users\\marti\\appdata\\local\\programs\\python\\python312\\lib\\site-packages (from ctab-xtra-dp==3.5.0) (3.10.0)\n",
      "Requirement already satisfied: seaborn in c:\\users\\marti\\appdata\\local\\programs\\python\\python312\\lib\\site-packages (from ctab-xtra-dp==3.5.0) (0.13.2)\n",
      "Requirement already satisfied: scikit-learn in c:\\users\\marti\\appdata\\local\\programs\\python\\python312\\lib\\site-packages (from ctab-xtra-dp==3.5.0) (1.6.1)\n",
      "Requirement already satisfied: torch in c:\\users\\marti\\appdata\\local\\programs\\python\\python312\\lib\\site-packages (from ctab-xtra-dp==3.5.0) (2.5.1)\n",
      "Requirement already satisfied: tqdm in c:\\users\\marti\\appdata\\local\\programs\\python\\python312\\lib\\site-packages (from ctab-xtra-dp==3.5.0) (4.67.1)\n",
      "Requirement already satisfied: dython in c:\\users\\marti\\appdata\\local\\programs\\python\\python312\\lib\\site-packages (from ctab-xtra-dp==3.5.0) (0.7.9)\n",
      "Requirement already satisfied: pathlib in c:\\users\\marti\\appdata\\local\\programs\\python\\python312\\lib\\site-packages (from ctab-xtra-dp==3.5.0) (1.0.1)\n",
      "Requirement already satisfied: xgboost in c:\\users\\marti\\appdata\\local\\programs\\python\\python312\\lib\\site-packages (from ctab-xtra-dp==3.5.0) (3.0.0)\n",
      "Requirement already satisfied: catboost in c:\\users\\marti\\appdata\\local\\programs\\python\\python312\\lib\\site-packages (from ctab-xtra-dp==3.5.0) (1.2.8)\n",
      "Requirement already satisfied: lightgbm in c:\\users\\marti\\appdata\\local\\programs\\python\\python312\\lib\\site-packages (from ctab-xtra-dp==3.5.0) (4.6.0)\n",
      "Requirement already satisfied: graphviz in c:\\users\\marti\\appdata\\local\\programs\\python\\python312\\lib\\site-packages (from catboost->ctab-xtra-dp==3.5.0) (0.20.3)\n",
      "Requirement already satisfied: scipy in c:\\users\\marti\\appdata\\local\\programs\\python\\python312\\lib\\site-packages (from catboost->ctab-xtra-dp==3.5.0) (1.15.1)\n",
      "Requirement already satisfied: plotly in c:\\users\\marti\\appdata\\local\\programs\\python\\python312\\lib\\site-packages (from catboost->ctab-xtra-dp==3.5.0) (6.0.1)\n",
      "Requirement already satisfied: six in c:\\users\\marti\\appdata\\roaming\\python\\python312\\site-packages (from catboost->ctab-xtra-dp==3.5.0) (1.17.0)\n",
      "Requirement already satisfied: python-dateutil>=2.8.2 in c:\\users\\marti\\appdata\\roaming\\python\\python312\\site-packages (from pandas->ctab-xtra-dp==3.5.0) (2.9.0.post0)\n",
      "Requirement already satisfied: pytz>=2020.1 in c:\\users\\marti\\appdata\\local\\programs\\python\\python312\\lib\\site-packages (from pandas->ctab-xtra-dp==3.5.0) (2024.2)\n",
      "Requirement already satisfied: tzdata>=2022.7 in c:\\users\\marti\\appdata\\local\\programs\\python\\python312\\lib\\site-packages (from pandas->ctab-xtra-dp==3.5.0) (2025.1)\n",
      "Requirement already satisfied: psutil>=5.9.1 in c:\\users\\marti\\appdata\\roaming\\python\\python312\\site-packages (from dython->ctab-xtra-dp==3.5.0) (6.1.1)\n",
      "Requirement already satisfied: setuptools in c:\\users\\marti\\appdata\\local\\programs\\python\\python312\\lib\\site-packages (from dython->ctab-xtra-dp==3.5.0) (75.8.0)\n",
      "Requirement already satisfied: contourpy>=1.0.1 in c:\\users\\marti\\appdata\\local\\programs\\python\\python312\\lib\\site-packages (from matplotlib->ctab-xtra-dp==3.5.0) (1.3.1)\n",
      "Requirement already satisfied: cycler>=0.10 in c:\\users\\marti\\appdata\\local\\programs\\python\\python312\\lib\\site-packages (from matplotlib->ctab-xtra-dp==3.5.0) (0.12.1)\n",
      "Requirement already satisfied: fonttools>=4.22.0 in c:\\users\\marti\\appdata\\local\\programs\\python\\python312\\lib\\site-packages (from matplotlib->ctab-xtra-dp==3.5.0) (4.55.4)\n",
      "Requirement already satisfied: kiwisolver>=1.3.1 in c:\\users\\marti\\appdata\\local\\programs\\python\\python312\\lib\\site-packages (from matplotlib->ctab-xtra-dp==3.5.0) (1.4.8)\n",
      "Requirement already satisfied: packaging>=20.0 in c:\\users\\marti\\appdata\\roaming\\python\\python312\\site-packages (from matplotlib->ctab-xtra-dp==3.5.0) (24.2)\n",
      "Requirement already satisfied: pillow>=8 in c:\\users\\marti\\appdata\\local\\programs\\python\\python312\\lib\\site-packages (from matplotlib->ctab-xtra-dp==3.5.0) (11.1.0)\n",
      "Requirement already satisfied: pyparsing>=2.3.1 in c:\\users\\marti\\appdata\\local\\programs\\python\\python312\\lib\\site-packages (from matplotlib->ctab-xtra-dp==3.5.0) (3.2.1)\n",
      "Requirement already satisfied: joblib>=1.2.0 in c:\\users\\marti\\appdata\\local\\programs\\python\\python312\\lib\\site-packages (from scikit-learn->ctab-xtra-dp==3.5.0) (1.4.2)\n",
      "Requirement already satisfied: threadpoolctl>=3.1.0 in c:\\users\\marti\\appdata\\local\\programs\\python\\python312\\lib\\site-packages (from scikit-learn->ctab-xtra-dp==3.5.0) (3.5.0)\n",
      "Requirement already satisfied: narwhals>=1.15.1 in c:\\users\\marti\\appdata\\local\\programs\\python\\python312\\lib\\site-packages (from plotly->catboost->ctab-xtra-dp==3.5.0) (1.36.0)\n",
      "Requirement already satisfied: filelock in c:\\users\\marti\\appdata\\local\\programs\\python\\python312\\lib\\site-packages (from torch->ctab-xtra-dp==3.5.0) (3.17.0)\n",
      "Requirement already satisfied: typing-extensions>=4.8.0 in c:\\users\\marti\\appdata\\local\\programs\\python\\python312\\lib\\site-packages (from torch->ctab-xtra-dp==3.5.0) (4.12.2)\n",
      "Requirement already satisfied: networkx in c:\\users\\marti\\appdata\\local\\programs\\python\\python312\\lib\\site-packages (from torch->ctab-xtra-dp==3.5.0) (3.4.2)\n",
      "Requirement already satisfied: jinja2 in c:\\users\\marti\\appdata\\local\\programs\\python\\python312\\lib\\site-packages (from torch->ctab-xtra-dp==3.5.0) (3.1.5)\n",
      "Requirement already satisfied: fsspec in c:\\users\\marti\\appdata\\local\\programs\\python\\python312\\lib\\site-packages (from torch->ctab-xtra-dp==3.5.0) (2024.12.0)\n",
      "Requirement already satisfied: sympy==1.13.1 in c:\\users\\marti\\appdata\\local\\programs\\python\\python312\\lib\\site-packages (from torch->ctab-xtra-dp==3.5.0) (1.13.1)\n",
      "Requirement already satisfied: mpmath<1.4,>=1.1.0 in c:\\users\\marti\\appdata\\local\\programs\\python\\python312\\lib\\site-packages (from sympy==1.13.1->torch->ctab-xtra-dp==3.5.0) (1.3.0)\n",
      "Requirement already satisfied: MarkupSafe>=2.0 in c:\\users\\marti\\appdata\\local\\programs\\python\\python312\\lib\\site-packages (from jinja2->torch->ctab-xtra-dp==3.5.0) (3.0.2)\n",
      "Requirement already satisfied: colorama in c:\\users\\marti\\appdata\\roaming\\python\\python312\\site-packages (from tqdm->ctab-xtra-dp==3.5.0) (0.4.6)\n"
     ]
    },
    {
     "name": "stderr",
     "output_type": "stream",
     "text": [
      "WARNING: Ignoring invalid distribution ~ (C:\\Users\\marti\\AppData\\Local\\Programs\\Python\\Python312\\Lib\\site-packages)\n",
      "WARNING: Ignoring invalid distribution ~tab-xtra-dp (C:\\Users\\marti\\AppData\\Local\\Programs\\Python\\Python312\\Lib\\site-packages)\n",
      "WARNING: Ignoring invalid distribution ~ (C:\\Users\\marti\\AppData\\Local\\Programs\\Python\\Python312\\Lib\\site-packages)\n",
      "WARNING: Ignoring invalid distribution ~tab-xtra-dp (C:\\Users\\marti\\AppData\\Local\\Programs\\Python\\Python312\\Lib\\site-packages)\n",
      "WARNING: Ignoring invalid distribution ~ (C:\\Users\\marti\\AppData\\Local\\Programs\\Python\\Python312\\Lib\\site-packages)\n",
      "WARNING: Ignoring invalid distribution ~tab-xtra-dp (C:\\Users\\marti\\AppData\\Local\\Programs\\Python\\Python312\\Lib\\site-packages)\n"
     ]
    }
   ],
   "source": [
    "!pip install --upgrade ctab-xtra-dp==3.5.0"
   ]
  },
  {
   "cell_type": "code",
   "execution_count": 15,
   "id": "13aaa8cd",
   "metadata": {},
   "outputs": [],
   "source": [
    "from ctab_xtra_dp import CTAB_XTRA_DP , load_demo, evaluation\n",
    "import numpy as np\n",
    "import pandas as pd\n"
   ]
  },
  {
   "cell_type": "code",
   "execution_count": null,
   "id": "46bb0ddc",
   "metadata": {},
   "outputs": [],
   "source": [
    "df = pd.read_csv('../datasets/fraud.csv')"
   ]
  },
  {
   "cell_type": "code",
   "execution_count": 17,
   "id": "23d73c36",
   "metadata": {},
   "outputs": [],
   "source": [
    "missing_values_columns = [\"prev_address_months_count\", \"current_address_months_count\", \"device_distinct_emails_8w\"]\n",
    "df[missing_values_columns] = df[missing_values_columns].replace(-1, np.nan)"
   ]
  },
  {
   "cell_type": "code",
   "execution_count": 18,
   "id": "cb8f6857",
   "metadata": {},
   "outputs": [
    {
     "data": {
      "text/plain": [
       "fraud_bool                            0\n",
       "income                                0\n",
       "name_email_similarity                 0\n",
       "prev_address_months_count           701\n",
       "current_address_months_count          2\n",
       "customer_age                          0\n",
       "payment_type                          0\n",
       "date_of_birth_distinct_emails_4w      0\n",
       "employment_status                     0\n",
       "credit_risk_score                     0\n",
       "email_is_free                         0\n",
       "housing_status                        0\n",
       "phone_home_valid                      0\n",
       "has_other_cards                       0\n",
       "proposed_credit_limit                 0\n",
       "device_os                             0\n",
       "keep_alive_session                    0\n",
       "device_distinct_emails_8w             0\n",
       "dtype: int64"
      ]
     },
     "execution_count": 18,
     "metadata": {},
     "output_type": "execute_result"
    }
   ],
   "source": [
    "df.isna().sum()"
   ]
  },
  {
   "cell_type": "code",
   "execution_count": 19,
   "id": "c369d3d4",
   "metadata": {},
   "outputs": [],
   "source": [
    "train, test = evaluation.split_data(df, 0.2,problem=\"regression\",random_state=22)"
   ]
  },
  {
   "cell_type": "code",
   "execution_count": 20,
   "id": "3f38a918",
   "metadata": {},
   "outputs": [],
   "source": [
    "categorical_columns =  [\"fraud_bool\",\"payment_type\",\"employment_status\",\"email_is_free\",\"housing_status\",\"device_os\",\"phone_home_valid\",\"has_other_cards\",\"keep_alive_session\"]\n",
    "mixed_columns = {}\n",
    "general_columns = ['date_of_birth_distinct_emails_4w','credit_risk_score']"
   ]
  },
  {
   "cell_type": "code",
   "execution_count": null,
   "id": "8c94f266",
   "metadata": {},
   "outputs": [
    {
     "name": "stderr",
     "output_type": "stream",
     "text": [
      "100%|██████████| 1/1 [00:03<00:00,  3.77s/it]\n"
     ]
    },
    {
     "name": "stdout",
     "output_type": "stream",
     "text": [
      "Finished training in 5.188199043273926  seconds.\n",
      "No delta provided, setting delta: 0.000125\n"
     ]
    }
   ],
   "source": [
    "def fit_and_save_constraints(df, epsilon_budget_list,categorical_columns, mixed_columns, general_columns,epochs = 100):\n",
    "    filepath = \"synthetic_data/\"\n",
    "    filename = \"fraud\"\n",
    "    synthetic_data_list = []\n",
    "    for epsilon in epsilon_budget_list:\n",
    "        \n",
    "        synthesizer = CTAB_XTRA_DP(df,\n",
    "                          categorical_columns=categorical_columns, \n",
    "                          mixed_columns=mixed_columns, \n",
    "                          general_columns=general_columns,\n",
    "                          problem_type= {\"Classification\": \"fraud_bool\"},\n",
    "                          dp_constraints= {\"epsilon_budget\": epsilon}\n",
    "        )\n",
    "        synthesizer.fit(epochs)\n",
    "        synthetic_data = synthesizer.generate_samples(df.shape[0])\n",
    "        epsilon_text = epsilon if epsilon is not None else \"None\"\n",
    "        synthetic_data.to_csv(f'{filepath}{filename}_epochs_{epochs}_epsilon_{epsilon_text}.csv', index=False)\n",
    "\n",
    "\n",
    "\n",
    "\n",
    "\n",
    "fit_and_save_constraints(train, [None,15,5,1], categorical_columns, mixed_columns, general_columns, epochs = 1)\n",
    "\n",
    "\n",
    "\n",
    "\n",
    "    "
   ]
  }
 ],
 "metadata": {
  "kernelspec": {
   "display_name": "Python 3",
   "language": "python",
   "name": "python3"
  },
  "language_info": {
   "codemirror_mode": {
    "name": "ipython",
    "version": 3
   },
   "file_extension": ".py",
   "mimetype": "text/x-python",
   "name": "python",
   "nbconvert_exporter": "python",
   "pygments_lexer": "ipython3",
   "version": "3.12.8"
  }
 },
 "nbformat": 4,
 "nbformat_minor": 5
}
