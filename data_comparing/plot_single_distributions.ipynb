{
 "cells": [
  {
   "cell_type": "code",
   "execution_count": null,
   "id": "993a75e1",
   "metadata": {},
   "outputs": [],
   "source": [
    "import pandas as pd\n",
    "import numpy as np \n",
    "import matplotlib.pyplot as plt\n",
    "from utils import plot_single_dataframe"
   ]
  },
  {
   "cell_type": "code",
   "execution_count": null,
   "id": "25b96800",
   "metadata": {},
   "outputs": [],
   "source": [
    "real = pd.read_csv('../datasets/Adult.csv')\n",
    "\n",
    "categorical_columns = ['workclass', 'education', 'marital-status', 'occupation', \n",
    "                         'relationship', 'race', 'gender', 'native-country','income']\n",
    "\n",
    "\n",
    "plot_single_dataframe(real,{}.categorical_columns)\n",
    "\n",
    "\n",
    "    "
   ]
  }
 ],
 "metadata": {
  "kernelspec": {
   "display_name": "Python 3",
   "language": "python",
   "name": "python3"
  },
  "language_info": {
   "name": "python",
   "version": "3.12.8"
  }
 },
 "nbformat": 4,
 "nbformat_minor": 5
}
