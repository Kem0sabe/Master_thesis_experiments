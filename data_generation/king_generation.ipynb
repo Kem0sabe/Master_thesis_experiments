{
 "cells": [
  {
   "cell_type": "code",
   "execution_count": 36,
   "id": "e163c7c1",
   "metadata": {},
   "outputs": [
    {
     "name": "stdout",
     "output_type": "stream",
     "text": [
      "Requirement already satisfied: ctab-xtra-dp==3.5.0 in c:\\users\\marti\\appdata\\local\\programs\\python\\python312\\lib\\site-packages (3.5.0)\n",
      "Requirement already satisfied: pandas in c:\\users\\marti\\appdata\\local\\programs\\python\\python312\\lib\\site-packages (from ctab-xtra-dp==3.5.0) (2.2.3)\n",
      "Requirement already satisfied: numpy in c:\\users\\marti\\appdata\\local\\programs\\python\\python312\\lib\\site-packages (from ctab-xtra-dp==3.5.0) (2.1.3)\n",
      "Requirement already satisfied: matplotlib in c:\\users\\marti\\appdata\\local\\programs\\python\\python312\\lib\\site-packages (from ctab-xtra-dp==3.5.0) (3.10.0)\n",
      "Requirement already satisfied: seaborn in c:\\users\\marti\\appdata\\local\\programs\\python\\python312\\lib\\site-packages (from ctab-xtra-dp==3.5.0) (0.13.2)\n",
      "Requirement already satisfied: scikit-learn in c:\\users\\marti\\appdata\\local\\programs\\python\\python312\\lib\\site-packages (from ctab-xtra-dp==3.5.0) (1.6.1)\n",
      "Requirement already satisfied: torch in c:\\users\\marti\\appdata\\local\\programs\\python\\python312\\lib\\site-packages (from ctab-xtra-dp==3.5.0) (2.5.1)\n",
      "Requirement already satisfied: tqdm in c:\\users\\marti\\appdata\\local\\programs\\python\\python312\\lib\\site-packages (from ctab-xtra-dp==3.5.0) (4.67.1)\n",
      "Requirement already satisfied: dython in c:\\users\\marti\\appdata\\local\\programs\\python\\python312\\lib\\site-packages (from ctab-xtra-dp==3.5.0) (0.7.9)\n",
      "Requirement already satisfied: pathlib in c:\\users\\marti\\appdata\\local\\programs\\python\\python312\\lib\\site-packages (from ctab-xtra-dp==3.5.0) (1.0.1)\n",
      "Requirement already satisfied: xgboost in c:\\users\\marti\\appdata\\local\\programs\\python\\python312\\lib\\site-packages (from ctab-xtra-dp==3.5.0) (3.0.0)\n",
      "Requirement already satisfied: catboost in c:\\users\\marti\\appdata\\local\\programs\\python\\python312\\lib\\site-packages (from ctab-xtra-dp==3.5.0) (1.2.8)\n",
      "Requirement already satisfied: lightgbm in c:\\users\\marti\\appdata\\local\\programs\\python\\python312\\lib\\site-packages (from ctab-xtra-dp==3.5.0) (4.6.0)\n",
      "Requirement already satisfied: graphviz in c:\\users\\marti\\appdata\\local\\programs\\python\\python312\\lib\\site-packages (from catboost->ctab-xtra-dp==3.5.0) (0.20.3)\n",
      "Requirement already satisfied: scipy in c:\\users\\marti\\appdata\\local\\programs\\python\\python312\\lib\\site-packages (from catboost->ctab-xtra-dp==3.5.0) (1.15.1)\n",
      "Requirement already satisfied: plotly in c:\\users\\marti\\appdata\\local\\programs\\python\\python312\\lib\\site-packages (from catboost->ctab-xtra-dp==3.5.0) (6.0.1)\n",
      "Requirement already satisfied: six in c:\\users\\marti\\appdata\\roaming\\python\\python312\\site-packages (from catboost->ctab-xtra-dp==3.5.0) (1.17.0)\n",
      "Requirement already satisfied: python-dateutil>=2.8.2 in c:\\users\\marti\\appdata\\roaming\\python\\python312\\site-packages (from pandas->ctab-xtra-dp==3.5.0) (2.9.0.post0)\n",
      "Requirement already satisfied: pytz>=2020.1 in c:\\users\\marti\\appdata\\local\\programs\\python\\python312\\lib\\site-packages (from pandas->ctab-xtra-dp==3.5.0) (2024.2)\n",
      "Requirement already satisfied: tzdata>=2022.7 in c:\\users\\marti\\appdata\\local\\programs\\python\\python312\\lib\\site-packages (from pandas->ctab-xtra-dp==3.5.0) (2025.1)\n",
      "Requirement already satisfied: psutil>=5.9.1 in c:\\users\\marti\\appdata\\roaming\\python\\python312\\site-packages (from dython->ctab-xtra-dp==3.5.0) (6.1.1)\n",
      "Requirement already satisfied: setuptools in c:\\users\\marti\\appdata\\local\\programs\\python\\python312\\lib\\site-packages (from dython->ctab-xtra-dp==3.5.0) (75.8.0)\n",
      "Requirement already satisfied: contourpy>=1.0.1 in c:\\users\\marti\\appdata\\local\\programs\\python\\python312\\lib\\site-packages (from matplotlib->ctab-xtra-dp==3.5.0) (1.3.1)\n",
      "Requirement already satisfied: cycler>=0.10 in c:\\users\\marti\\appdata\\local\\programs\\python\\python312\\lib\\site-packages (from matplotlib->ctab-xtra-dp==3.5.0) (0.12.1)\n",
      "Requirement already satisfied: fonttools>=4.22.0 in c:\\users\\marti\\appdata\\local\\programs\\python\\python312\\lib\\site-packages (from matplotlib->ctab-xtra-dp==3.5.0) (4.55.4)\n",
      "Requirement already satisfied: kiwisolver>=1.3.1 in c:\\users\\marti\\appdata\\local\\programs\\python\\python312\\lib\\site-packages (from matplotlib->ctab-xtra-dp==3.5.0) (1.4.8)\n",
      "Requirement already satisfied: packaging>=20.0 in c:\\users\\marti\\appdata\\roaming\\python\\python312\\site-packages (from matplotlib->ctab-xtra-dp==3.5.0) (24.2)\n",
      "Requirement already satisfied: pillow>=8 in c:\\users\\marti\\appdata\\local\\programs\\python\\python312\\lib\\site-packages (from matplotlib->ctab-xtra-dp==3.5.0) (11.1.0)\n",
      "Requirement already satisfied: pyparsing>=2.3.1 in c:\\users\\marti\\appdata\\local\\programs\\python\\python312\\lib\\site-packages (from matplotlib->ctab-xtra-dp==3.5.0) (3.2.1)\n",
      "Requirement already satisfied: joblib>=1.2.0 in c:\\users\\marti\\appdata\\local\\programs\\python\\python312\\lib\\site-packages (from scikit-learn->ctab-xtra-dp==3.5.0) (1.4.2)\n",
      "Requirement already satisfied: threadpoolctl>=3.1.0 in c:\\users\\marti\\appdata\\local\\programs\\python\\python312\\lib\\site-packages (from scikit-learn->ctab-xtra-dp==3.5.0) (3.5.0)\n",
      "Requirement already satisfied: narwhals>=1.15.1 in c:\\users\\marti\\appdata\\local\\programs\\python\\python312\\lib\\site-packages (from plotly->catboost->ctab-xtra-dp==3.5.0) (1.36.0)\n",
      "Requirement already satisfied: filelock in c:\\users\\marti\\appdata\\local\\programs\\python\\python312\\lib\\site-packages (from torch->ctab-xtra-dp==3.5.0) (3.17.0)\n",
      "Requirement already satisfied: typing-extensions>=4.8.0 in c:\\users\\marti\\appdata\\local\\programs\\python\\python312\\lib\\site-packages (from torch->ctab-xtra-dp==3.5.0) (4.12.2)\n",
      "Requirement already satisfied: networkx in c:\\users\\marti\\appdata\\local\\programs\\python\\python312\\lib\\site-packages (from torch->ctab-xtra-dp==3.5.0) (3.4.2)\n",
      "Requirement already satisfied: jinja2 in c:\\users\\marti\\appdata\\local\\programs\\python\\python312\\lib\\site-packages (from torch->ctab-xtra-dp==3.5.0) (3.1.5)\n",
      "Requirement already satisfied: fsspec in c:\\users\\marti\\appdata\\local\\programs\\python\\python312\\lib\\site-packages (from torch->ctab-xtra-dp==3.5.0) (2024.12.0)\n",
      "Requirement already satisfied: sympy==1.13.1 in c:\\users\\marti\\appdata\\local\\programs\\python\\python312\\lib\\site-packages (from torch->ctab-xtra-dp==3.5.0) (1.13.1)\n",
      "Requirement already satisfied: mpmath<1.4,>=1.1.0 in c:\\users\\marti\\appdata\\local\\programs\\python\\python312\\lib\\site-packages (from sympy==1.13.1->torch->ctab-xtra-dp==3.5.0) (1.3.0)\n",
      "Requirement already satisfied: MarkupSafe>=2.0 in c:\\users\\marti\\appdata\\local\\programs\\python\\python312\\lib\\site-packages (from jinja2->torch->ctab-xtra-dp==3.5.0) (3.0.2)\n",
      "Requirement already satisfied: colorama in c:\\users\\marti\\appdata\\roaming\\python\\python312\\site-packages (from tqdm->ctab-xtra-dp==3.5.0) (0.4.6)\n"
     ]
    },
    {
     "name": "stderr",
     "output_type": "stream",
     "text": [
      "WARNING: Ignoring invalid distribution ~ (C:\\Users\\marti\\AppData\\Local\\Programs\\Python\\Python312\\Lib\\site-packages)\n",
      "WARNING: Ignoring invalid distribution ~tab-xtra-dp (C:\\Users\\marti\\AppData\\Local\\Programs\\Python\\Python312\\Lib\\site-packages)\n",
      "WARNING: Ignoring invalid distribution ~ (C:\\Users\\marti\\AppData\\Local\\Programs\\Python\\Python312\\Lib\\site-packages)\n",
      "WARNING: Ignoring invalid distribution ~tab-xtra-dp (C:\\Users\\marti\\AppData\\Local\\Programs\\Python\\Python312\\Lib\\site-packages)\n",
      "WARNING: Ignoring invalid distribution ~ (C:\\Users\\marti\\AppData\\Local\\Programs\\Python\\Python312\\Lib\\site-packages)\n",
      "WARNING: Ignoring invalid distribution ~tab-xtra-dp (C:\\Users\\marti\\AppData\\Local\\Programs\\Python\\Python312\\Lib\\site-packages)\n"
     ]
    }
   ],
   "source": [
    "!pip install --upgrade ctab-xtra-dp==3.5.0"
   ]
  },
  {
   "cell_type": "code",
   "execution_count": 37,
   "id": "13aaa8cd",
   "metadata": {},
   "outputs": [],
   "source": [
    "from ctab_xtra_dp import CTAB_XTRA_DP , load_demo, evaluation\n",
    "import numpy as np\n",
    "import pandas as pd\n"
   ]
  },
  {
   "cell_type": "code",
   "execution_count": null,
   "id": "46bb0ddc",
   "metadata": {},
   "outputs": [],
   "source": [
    "df = load_demo(\"king\")"
   ]
  },
  {
   "cell_type": "code",
   "execution_count": 44,
   "id": "c369d3d4",
   "metadata": {},
   "outputs": [],
   "source": [
    "train, test = evaluation.split_data(df, 0.2,\"income\",random_state=22)"
   ]
  },
  {
   "cell_type": "code",
   "execution_count": null,
   "id": "3f38a918",
   "metadata": {},
   "outputs": [],
   "source": [
    "categorical_columns = ['bedrooms', \"floors\", 'waterfront', 'view', 'condition', 'grade','zipcode']\n",
    "\n",
    "mixed_columns = {\"sqft_basement\":[0.0],  \"yr_renovated\":[0.0]}\n",
    "\n",
    "general_columns = [\"bathrooms\", \"sqft_living\", \"sqft_above\", \"yr_built\", \"long\", \"sqft_living15\"]\n",
    "\n"
   ]
  },
  {
   "cell_type": "code",
   "execution_count": null,
   "id": "8c94f266",
   "metadata": {},
   "outputs": [
    {
     "name": "stderr",
     "output_type": "stream",
     "text": [
      "100%|██████████| 1/1 [00:03<00:00,  3.56s/it]\n"
     ]
    },
    {
     "name": "stdout",
     "output_type": "stream",
     "text": [
      "Finished training in 4.036988019943237  seconds.\n",
      "No delta provided, setting delta: 0.000125\n",
      "Found sigma=0.9437 for epsilon=9.9175 (target was 10)\n",
      "Sigma set to: 0.9437445068359374, using epsilon budget: 10 and delta: 0.000125\n"
     ]
    },
    {
     "name": "stderr",
     "output_type": "stream",
     "text": [
      "100%|██████████| 1/1 [00:03<00:00,  3.87s/it]"
     ]
    },
    {
     "name": "stdout",
     "output_type": "stream",
     "text": [
      "Epoch : 1 Epsilon spent :  9.917456144013709\n",
      "Finished training in 27.76428198814392  seconds.\n"
     ]
    },
    {
     "name": "stderr",
     "output_type": "stream",
     "text": [
      "\n"
     ]
    },
    {
     "name": "stdout",
     "output_type": "stream",
     "text": [
      "No delta provided, setting delta: 0.000125\n",
      "Found sigma=6.4242 for epsilon=0.9992 (target was 1)\n",
      "Sigma set to: 6.424153442382813, using epsilon budget: 1 and delta: 0.000125\n"
     ]
    },
    {
     "name": "stderr",
     "output_type": "stream",
     "text": [
      "100%|██████████| 1/1 [00:03<00:00,  3.56s/it]"
     ]
    },
    {
     "name": "stdout",
     "output_type": "stream",
     "text": [
      "Epoch : 1 Epsilon spent :  0.999152919187762\n",
      "Finished training in 26.879283666610718  seconds.\n"
     ]
    },
    {
     "name": "stderr",
     "output_type": "stream",
     "text": [
      "\n"
     ]
    }
   ],
   "source": [
    "def fit_and_save_constraints(df, epsilon_budget_list,categorical_columns, mixed_columns, general_columns,epochs = 100):\n",
    "    filepath = \"synthetic_data/\"\n",
    "    filename = \"king\"\n",
    "    synthetic_data_list = []\n",
    "    for epsilon in epsilon_budget_list:\n",
    "        \n",
    "        synthesizer = CTAB_XTRA_DP(df,\n",
    "                          categorical_columns=categorical_columns, \n",
    "                          mixed_columns=mixed_columns, \n",
    "                          general_columns=general_columns,\n",
    "                          problem_type= {\"Regression\": \"price\"},\n",
    "                          dp_constraints= {\"epsilon_budget\": epsilon}\n",
    "        )\n",
    "        synthesizer.fit(epochs)\n",
    "        synthetic_data = synthesizer.generate_samples(df.shape[0])\n",
    "        epsilon_text = epsilon if epsilon is not None else \"None\"\n",
    "        synthetic_data.to_csv(f'{filepath}{filename}_epochs_{epochs}_epsilon_{epsilon_text}.csv', index=False)\n",
    "\n",
    "\n",
    "\n",
    "\n",
    "\n",
    "fit_and_save_constraints(train, [None,15,5,1], categorical_columns, mixed_columns, general_columns, epochs = 1)\n",
    "\n",
    "\n",
    "\n",
    "\n",
    "    "
   ]
  }
 ],
 "metadata": {
  "kernelspec": {
   "display_name": "Python 3",
   "language": "python",
   "name": "python3"
  },
  "language_info": {
   "codemirror_mode": {
    "name": "ipython",
    "version": 3
   },
   "file_extension": ".py",
   "mimetype": "text/x-python",
   "name": "python",
   "nbconvert_exporter": "python",
   "pygments_lexer": "ipython3",
   "version": "3.12.8"
  }
 },
 "nbformat": 4,
 "nbformat_minor": 5
}
