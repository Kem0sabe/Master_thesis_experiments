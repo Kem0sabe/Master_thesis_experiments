{
 "cells": [
  {
   "cell_type": "code",
   "execution_count": 6,
   "id": "5049cdd5",
   "metadata": {},
   "outputs": [],
   "source": [
    "import pandas as pd\n",
    "import numpy as np\n",
    "import matplotlib.pyplot as plt\n",
    "\n",
    "from distance_metrics import load_gower_matrix, euclidean_distance"
   ]
  },
  {
   "cell_type": "code",
   "execution_count": 7,
   "id": "ca0dbfc1",
   "metadata": {},
   "outputs": [],
   "source": [
    "df = pd.read_csv('../datasets/Adult.csv')\n",
    "categorical_columns = ['workclass', 'education', 'marital-status', 'occupation', \n",
    "                         'relationship', 'race', 'gender', 'native-country','income']\n",
    "df = df.head(1000)"
   ]
  },
  {
   "cell_type": "code",
   "execution_count": 8,
   "id": "71287339",
   "metadata": {},
   "outputs": [],
   "source": [
    "def plot_min_distances(min_distances):\n",
    "    plt.plot(np.sort(min_distances))\n",
    "    plt.title(\"Minimum Distance per Row\")\n",
    "    plt.xlabel(\"Row Index\")\n",
    "    plt.ylabel(\"Minimum Distance\")\n",
    "    plt.show()\n"
   ]
  },
  {
   "cell_type": "code",
   "execution_count": 13,
   "id": "9251765f",
   "metadata": {},
   "outputs": [],
   "source": [
    "def compute_distance_and_plot(df,categorical_columns):\n",
    "\n",
    "    euclidean_dist = euclidean_distance(df,df,categorical_columns=categorical_columns, remove_self=True)\n",
    "\n",
    "    gower_distance_1 =  load_gower_matrix(df,alpha=1,remove_self=True)\n",
    "    gower_distance_2 =  load_gower_matrix(df,alpha=2,remove_self=True)\n",
    "\n",
    "\n",
    "    gower_min_distances_1 = gower_distance_1.min(axis=1)\n",
    "    gower_min_distances_2 = gower_distance_2.min(axis=1)\n",
    "    euclidean_min_distances = euclidean_dist.min(axis=1)\n",
    "\n",
    "    plot_min_distances(gower_min_distances_1)\n",
    "    plot_min_distances(gower_min_distances_2)\n",
    "    plot_min_distances(euclidean_min_distances)\n",
    "\n",
    "    return gower_distance_1, gower_distance_2, euclidean_dist\n",
    "\n",
    "    "
   ]
  },
  {
   "cell_type": "code",
   "execution_count": null,
   "id": "be6e4b3d",
   "metadata": {},
   "outputs": [],
   "source": [
    "compute_distance_and_plot(df,categorical_columns)"
   ]
  },
  {
   "cell_type": "code",
   "execution_count": 11,
   "id": "e9d24f68",
   "metadata": {},
   "outputs": [],
   "source": [
    "dist2 = load_gower_matrix(df,alpha=2,remove_self=True)\n",
    "\n",
    "dist_row_min2 = dist2.min(axis=1)"
   ]
  }
 ],
 "metadata": {
  "kernelspec": {
   "display_name": "Python 3",
   "language": "python",
   "name": "python3"
  },
  "language_info": {
   "codemirror_mode": {
    "name": "ipython",
    "version": 3
   },
   "file_extension": ".py",
   "mimetype": "text/x-python",
   "name": "python",
   "nbconvert_exporter": "python",
   "pygments_lexer": "ipython3",
   "version": "3.12.8"
  }
 },
 "nbformat": 4,
 "nbformat_minor": 5
}
